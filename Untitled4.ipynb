{
  "nbformat": 4,
  "nbformat_minor": 0,
  "metadata": {
    "colab": {
      "private_outputs": true,
      "provenance": []
    },
    "kernelspec": {
      "name": "python3",
      "display_name": "Python 3"
    },
    "language_info": {
      "name": "python"
    }
  },
  "cells": [
    {
      "cell_type": "code",
      "execution_count": null,
      "metadata": {
        "id": "RJZg9J5ynTMz"
      },
      "outputs": [],
      "source": [
        "import pandas  as pd\n",
        "import numpy as np\n",
        "import matplotlib.pyplot as plt\n",
        "import seaborn as sns\n",
        "import warnings\n",
        "warnings.filterwarnings('ignore')"
      ]
    },
    {
      "cell_type": "code",
      "source": [
        "df=pd.read_csv('train.csv')"
      ],
      "metadata": {
        "id": "MmmnD_Qnnm49"
      },
      "execution_count": null,
      "outputs": []
    },
    {
      "cell_type": "code",
      "source": [
        "df.head()"
      ],
      "metadata": {
        "id": "YJTYEt43nqFY"
      },
      "execution_count": null,
      "outputs": []
    },
    {
      "cell_type": "code",
      "source": [
        "df.isnull().sum()"
      ],
      "metadata": {
        "id": "4sbgdV1fnryh"
      },
      "execution_count": null,
      "outputs": []
    },
    {
      "cell_type": "code",
      "source": [
        "!pip install ydata-profiling"
      ],
      "metadata": {
        "id": "la6PrU-6n9Yo"
      },
      "execution_count": null,
      "outputs": []
    },
    {
      "cell_type": "code",
      "source": [
        "from ydata_profiling import ProfileReport"
      ],
      "metadata": {
        "id": "K8p3ELb8oFGu"
      },
      "execution_count": null,
      "outputs": []
    },
    {
      "cell_type": "code",
      "source": [
        "pr=ProfileReport(df,title='report')"
      ],
      "metadata": {
        "id": "cVQ-XVUQoX-Y"
      },
      "execution_count": null,
      "outputs": []
    },
    {
      "cell_type": "code",
      "source": [
        "pr.to_file('report.html')"
      ],
      "metadata": {
        "id": "YvV9LCaooquG"
      },
      "execution_count": null,
      "outputs": []
    },
    {
      "cell_type": "code",
      "source": [
        "!ls /content/report.html"
      ],
      "metadata": {
        "id": "jblx3Gnbo14R"
      },
      "execution_count": null,
      "outputs": []
    },
    {
      "cell_type": "code",
      "source": [
        "from google.colab import files\n",
        "\n",
        "# Download the HTML file\n",
        "files.download('report.html')"
      ],
      "metadata": {
        "id": "7mcODu-_puRD"
      },
      "execution_count": null,
      "outputs": []
    },
    {
      "cell_type": "code",
      "source": [
        "import seaborn as sns\n",
        "import matplotlib.pyplot as plt\n",
        "\n",
        "# Count plot for 'HomePlanet' vs 'Destination'\n",
        "plt.figure(figsize=(10,6))\n",
        "sns.countplot(x='HomePlanet', hue='Destination', data=df)\n",
        "\n",
        "# Set plot title and labels\n",
        "plt.title('Relation between HomePlanet and Destination')\n",
        "plt.xlabel('')\n",
        "plt.ylabel('Destination')\n",
        "plt.legend(title='F')\n",
        "plt.xticks(rotation=45)  # Rotate x labels for better readability\n",
        "plt.show()\n"
      ],
      "metadata": {
        "id": "i7jfosQVtDDI"
      },
      "execution_count": null,
      "outputs": []
    },
    {
      "cell_type": "code",
      "source": [
        "sns.lineplot(x='HomePlanet', y='FoodCourt', data=df)\n",
        "plt.title('HomePlanet vs f')\n",
        "plt.show()"
      ],
      "metadata": {
        "id": "wNSabTUAzkbI"
      },
      "execution_count": null,
      "outputs": []
    },
    {
      "cell_type": "code",
      "source": [
        "plt.figure(figsize=(12, 8))\n",
        "\n",
        "# Create a box plot\n",
        "sns.boxplot(x='HomePlanet', y='Age', hue='Destination', data=df)\n",
        "\n",
        "# Set plot labels and title\n",
        "plt.title('Age distribution by HomePlanet and Destination')\n",
        "plt.xlabel('HomePlanet')\n",
        "plt.ylabel('Age')\n",
        "plt.xticks(rotation=45)\n",
        "plt.legend(title='Destination', bbox_to_anchor=(1.05, 1), loc='upper left')\n",
        "plt.show()"
      ],
      "metadata": {
        "id": "OI-qnqM-1ttD"
      },
      "execution_count": null,
      "outputs": []
    },
    {
      "cell_type": "code",
      "source": [
        "avg_foodcourt_by_homeplanet = df.groupby('HomePlanet')['FoodCourt'].mean()\n",
        "\n",
        "# Display the result\n",
        "print(avg_foodcourt_by_homeplanet)"
      ],
      "metadata": {
        "id": "J4tBHUVO4bWC"
      },
      "execution_count": null,
      "outputs": []
    },
    {
      "cell_type": "code",
      "source": [
        "# Group by HomePlanet and calculate the range of FoodCourt expenditure\n",
        "range_foodcourt_by_homeplanet = df.groupby('HomePlanet')['FoodCourt'].agg(lambda x: x.max() - x.min())\n",
        "\n",
        "# Display the result\n",
        "print(range_foodcourt_by_homeplanet)"
      ],
      "metadata": {
        "id": "py3l5koc4ciV"
      },
      "execution_count": null,
      "outputs": []
    },
    {
      "cell_type": "code",
      "source": [
        "max = df.groupby('HomePlanet')['FoodCourt'].max()"
      ],
      "metadata": {
        "id": "YmNYidln43m_"
      },
      "execution_count": null,
      "outputs": []
    },
    {
      "cell_type": "code",
      "source": [
        "print(max)"
      ],
      "metadata": {
        "id": "WDvbTA6n6EDk"
      },
      "execution_count": null,
      "outputs": []
    },
    {
      "cell_type": "code",
      "source": [
        "import numpy as np\n",
        "\n",
        "# Condition 1: If FoodCourt > 6153, fill HomePlanet with 'Europa'\n",
        "df.loc[(df['FoodCourt'] > 6153) & (df['HomePlanet'].isnull()), 'HomePlanet'] = 'Europa'\n",
        "\n",
        "# Condition 2: If Destination is 'TRAPPIST-1e' and Age is between 18 and 36, fill with 'Earth'\n",
        "df.loc[(df['Destination'] == 'TRAPPIST-1e') & (df['Age'].between(18, 36)) & (df['HomePlanet'].isnull()), 'HomePlanet'] = 'Earth'\n",
        "\n",
        "# Condition 3: If Destination is 'TRAPPIST-1e' and Age > 36, fill with 'Earth'\n",
        "df.loc[(df['Destination'] == 'TRAPPIST-1e') & (df['Age'] > 36) & (df['HomePlanet'].isnull()), 'HomePlanet'] = 'Mars'\n",
        "\n",
        "# Condition 4: If Destination is '55 Cancri e' or 'PSO J318.5-22', fill with 'Earth'\n",
        "df.loc[(df['Destination'].isin(['55 Cancri e', 'PSO J318.5-22'])) & (df['HomePlanet'].isnull()), 'HomePlanet'] = 'Earth'\n",
        "\n",
        "# Verify the filled HomePlanet values\n",
        "print(df['HomePlanet'].isnull().sum())  # This will show how many missing values remain in HomePlanet\n"
      ],
      "metadata": {
        "id": "K1do9y0O6Jhn"
      },
      "execution_count": null,
      "outputs": []
    },
    {
      "cell_type": "code",
      "source": [
        "test_d=pd.read_csv('test.csv')"
      ],
      "metadata": {
        "id": "rhJdOGGD_MQi"
      },
      "execution_count": null,
      "outputs": []
    },
    {
      "cell_type": "code",
      "source": [
        "test_d.shape"
      ],
      "metadata": {
        "id": "mD6MieN4enLk"
      },
      "execution_count": null,
      "outputs": []
    },
    {
      "cell_type": "code",
      "source": [
        "import numpy as np\n",
        "\n",
        "# Condition 1: If FoodCourt > 6153, fill HomePlanet with 'Europa'\n",
        "test_d.loc[(test_d['FoodCourt'] > 6153) & (test_d['HomePlanet'].isnull()), 'HomePlanet'] = 'Europa'\n",
        "\n",
        "# Condition 2: If Destination is 'TRAPPIST-1e' and Age is between 18 and 36, fill with 'Earth'\n",
        "test_d.loc[(test_d['Destination'] == 'TRAPPIST-1e') & (test_d['Age'].between(18, 36)) & (test_d['HomePlanet'].isnull()), 'HomePlanet'] = 'Earth'\n",
        "\n",
        "# Condition 3: If Destination is 'TRAPPIST-1e' and Age > 36, fill with 'Earth'\n",
        "test_d.loc[(test_d['Destination'] == 'TRAPPIST-1e') & (test_d['Age'] > 36) & (test_d['HomePlanet'].isnull()), 'HomePlanet'] = 'Mars'\n",
        "\n",
        "# Condition 4: If Destination is '55 Cancri e' or 'PSO J318.5-22', fill with 'Earth'\n",
        "test_d.loc[(test_d['Destination'].isin(['55 Cancri e', 'PSO J318.5-22'])) & (test_d['HomePlanet'].isnull()), 'HomePlanet'] = 'Earth'\n",
        "\n",
        "# Verify the filled HomePlanet values in test_d\n",
        "print(test_d['HomePlanet'].isnull().sum())  # This will show how many missing values remain in HomePlanet\n"
      ],
      "metadata": {
        "id": "lAKbfJ--_PRD"
      },
      "execution_count": null,
      "outputs": []
    },
    {
      "cell_type": "code",
      "source": [
        "test_d['HomePlanet'].fillna('Earth', inplace=True)\n"
      ],
      "metadata": {
        "id": "jAioYjme_mWy"
      },
      "execution_count": null,
      "outputs": []
    },
    {
      "cell_type": "code",
      "source": [
        "test_d.shape"
      ],
      "metadata": {
        "id": "-imgh67Ue1ee"
      },
      "execution_count": null,
      "outputs": []
    },
    {
      "cell_type": "code",
      "source": [
        "df = df.dropna(subset=['HomePlanet'])\n"
      ],
      "metadata": {
        "id": "GJLUYb12Ae-C"
      },
      "execution_count": null,
      "outputs": []
    },
    {
      "cell_type": "code",
      "source": [
        "df.isnull().sum()"
      ],
      "metadata": {
        "id": "MQaZLlQ3A-oH"
      },
      "execution_count": null,
      "outputs": []
    },
    {
      "cell_type": "code",
      "source": [
        "df = df.dropna(subset=['CryoSleep'])\n"
      ],
      "metadata": {
        "id": "ZQ3oTSxpBBjg"
      },
      "execution_count": null,
      "outputs": []
    },
    {
      "cell_type": "code",
      "source": [
        "df.isnull().sum()"
      ],
      "metadata": {
        "id": "FX_9hQiPBwRR"
      },
      "execution_count": null,
      "outputs": []
    },
    {
      "cell_type": "code",
      "source": [
        "test_d['CryoSleep'] =test_d['CryoSleep'].fillna(test_d['CryoSleep'].mode()[0])"
      ],
      "metadata": {
        "id": "aZm1YS3XB0UC"
      },
      "execution_count": null,
      "outputs": []
    },
    {
      "cell_type": "code",
      "source": [
        "df['Cabin']=df['Cabin'].fillna(df['Cabin'].mode()[0])"
      ],
      "metadata": {
        "id": "2Lx2bZqRCFeq"
      },
      "execution_count": null,
      "outputs": []
    },
    {
      "cell_type": "code",
      "source": [
        "test_d['Cabin']=test_d['Cabin'].fillna(test_d['Cabin'].mode()[0])"
      ],
      "metadata": {
        "id": "aqi_yK8rIlai"
      },
      "execution_count": null,
      "outputs": []
    },
    {
      "cell_type": "code",
      "source": [
        "plt.figure(figsize=(12, 6))\n",
        "sns.boxplot(data=df, x='HomePlanet', y='Age')\n",
        "plt.title('Destination vs HomePlanet')\n",
        "plt.xlabel('home')\n",
        "plt.ylabel('age')\n",
        "plt.xticks(rotation=45)\n",
        "plt.show()\n"
      ],
      "metadata": {
        "id": "H3JOvyayChBj"
      },
      "execution_count": null,
      "outputs": []
    },
    {
      "cell_type": "code",
      "source": [
        "test_d.shape"
      ],
      "metadata": {
        "id": "X7XEVtV5fAqI"
      },
      "execution_count": null,
      "outputs": []
    },
    {
      "cell_type": "code",
      "source": [
        "df['Destination']=df['Destination'].fillna(df['Destination'].mode()[0])"
      ],
      "metadata": {
        "id": "IcTbpFIEEAfp"
      },
      "execution_count": null,
      "outputs": []
    },
    {
      "cell_type": "code",
      "source": [
        "test_d['Destination'] = test_d['Destination'].fillna(test_d['Destination'].mode()[0])\n"
      ],
      "metadata": {
        "id": "_wFUZrzmEJvd"
      },
      "execution_count": null,
      "outputs": []
    },
    {
      "cell_type": "code",
      "source": [
        "df.loc[df['HomePlanet'] == 'Earth', 'Age'] = 24\n",
        "df.loc[df['HomePlanet'] == 'Europa', 'Age'] = 32\n",
        "df.loc[df['HomePlanet'] == 'Mars', 'Age'] = 28"
      ],
      "metadata": {
        "id": "ic8_M2JGISY-"
      },
      "execution_count": null,
      "outputs": []
    },
    {
      "cell_type": "code",
      "source": [
        "test_d.loc[test_d['HomePlanet'] == 'Earth', 'Age'] = 24\n",
        "test_d.loc[test_d['HomePlanet'] == 'Europa', 'Age'] = 32\n",
        "test_d.loc[test_d['HomePlanet'] == 'Mars', 'Age'] = 28\n"
      ],
      "metadata": {
        "id": "Sp8IKed-IT_y"
      },
      "execution_count": null,
      "outputs": []
    },
    {
      "cell_type": "code",
      "source": [
        "test_d.isnull().sum()"
      ],
      "metadata": {
        "id": "_7oXEEznIY2o"
      },
      "execution_count": null,
      "outputs": []
    },
    {
      "cell_type": "code",
      "source": [
        "df.drop(['VIP', 'Name', 'PassengerId'], axis=1, inplace=True)\n",
        "test_d.drop(['VIP', 'Name', 'PassengerId'], axis=1, inplace=True)\n",
        "\n"
      ],
      "metadata": {
        "id": "Go43JScjJEKJ"
      },
      "execution_count": null,
      "outputs": []
    },
    {
      "cell_type": "code",
      "source": [
        "df['RoomService_Zero'] = (df['RoomService'] == 0).astype(int)\n",
        "df['FoodCourt_Zero'] = (df['FoodCourt'] == 0).astype(int)"
      ],
      "metadata": {
        "id": "W7K1UCziJGT7"
      },
      "execution_count": null,
      "outputs": []
    },
    {
      "cell_type": "code",
      "source": [
        "df.head(10)"
      ],
      "metadata": {
        "id": "C4QNdhrBMzZ7"
      },
      "execution_count": null,
      "outputs": []
    },
    {
      "cell_type": "code",
      "source": [
        "plt.figure(figsize=(10, 6))\n",
        "sns.lineplot(data=df, x='Transported', y='RoomService')\n",
        "\n",
        "# Set the title and labels\n",
        "plt.title('Boxplot of RoomService by Transported Status')\n",
        "plt.xlabel('Transported')\n",
        "plt.ylabel('RoomService Spending')\n",
        "\n",
        "# Show the plot\n",
        "plt.show()"
      ],
      "metadata": {
        "id": "05l8dYXwM2Pi"
      },
      "execution_count": null,
      "outputs": []
    },
    {
      "cell_type": "code",
      "source": [
        "df['ShoppingMall_Used'] = (df['ShoppingMall'] > 0).astype(int)\n",
        "df['Spa_Used'] = (df['Spa'] > 0).astype(int)\n",
        "df['VRDeck_Used'] = (df['VRDeck'] > 0).astype(int)"
      ],
      "metadata": {
        "id": "DAam-0SXNwKW"
      },
      "execution_count": null,
      "outputs": []
    },
    {
      "cell_type": "code",
      "source": [
        "# Create binary indicators for service usage in test_d\n",
        "test_d['RoomService_Used'] = (test_d['RoomService'] > 0).astype(int)\n",
        "test_d['FoodCourt_Used'] = (test_d['FoodCourt'] > 0).astype(int)\n",
        "test_d['ShoppingMall_Used'] = (test_d['ShoppingMall'] > 0).astype(int)\n",
        "test_d['Spa_Used'] = (test_d['Spa'] > 0).astype(int)\n",
        "test_d['VRDeck_Used'] = (test_d['VRDeck'] > 0).astype(int)\n"
      ],
      "metadata": {
        "id": "vzAi1LCyOpXn"
      },
      "execution_count": null,
      "outputs": []
    },
    {
      "cell_type": "code",
      "source": [
        "df.drop(['RoomService', 'FoodCourt', 'ShoppingMall', 'Spa', 'VRDeck'], axis=1, inplace=True)  # Drop the original columns\n",
        "test_d.drop(['RoomService', 'FoodCourt', 'ShoppingMall', 'Spa', 'VRDeck'], axis=1, inplace=True)  # Drop the original columns"
      ],
      "metadata": {
        "id": "yrDk1oOfOxqw"
      },
      "execution_count": null,
      "outputs": []
    },
    {
      "cell_type": "code",
      "source": [
        "df.shape"
      ],
      "metadata": {
        "id": "6LgIChk7O4pV"
      },
      "execution_count": null,
      "outputs": []
    },
    {
      "cell_type": "code",
      "source": [
        "test_d.shape"
      ],
      "metadata": {
        "id": "Ia3u_bBsO7ib"
      },
      "execution_count": null,
      "outputs": []
    },
    {
      "cell_type": "code",
      "source": [
        "df= pd.get_dummies(df, columns=['HomePlanet', 'Destination','CryoSleep'], drop_first=True)"
      ],
      "metadata": {
        "id": "fx_C7o_-QhWw"
      },
      "execution_count": null,
      "outputs": []
    },
    {
      "cell_type": "code",
      "source": [
        "test_d= pd.get_dummies(test_d, columns=['HomePlanet', 'Destination','CryoSleep'], drop_first=True)"
      ],
      "metadata": {
        "id": "5-a48Pu1QhYx"
      },
      "execution_count": null,
      "outputs": []
    },
    {
      "cell_type": "code",
      "source": [
        "df.shape"
      ],
      "metadata": {
        "id": "TyNWlVLRQhcd"
      },
      "execution_count": null,
      "outputs": []
    },
    {
      "cell_type": "code",
      "source": [
        "df.drop('Cabin', axis=1, inplace=True)"
      ],
      "metadata": {
        "id": "W83r5a8aQhfe"
      },
      "execution_count": null,
      "outputs": []
    },
    {
      "cell_type": "code",
      "source": [
        "test_d.drop('Cabin', axis=1, inplace=True)"
      ],
      "metadata": {
        "id": "F2svjN7oQhrg"
      },
      "execution_count": null,
      "outputs": []
    },
    {
      "cell_type": "code",
      "source": [
        "df.shape"
      ],
      "metadata": {
        "id": "QD_Nso9lQhup"
      },
      "execution_count": null,
      "outputs": []
    },
    {
      "cell_type": "code",
      "source": [
        "##creating an ANN model"
      ],
      "metadata": {
        "id": "NKRa2QhuPKdQ"
      },
      "execution_count": null,
      "outputs": []
    },
    {
      "cell_type": "code",
      "source": [
        "test_d.shape"
      ],
      "metadata": {
        "id": "mVJO03fRS8HK"
      },
      "execution_count": null,
      "outputs": []
    },
    {
      "cell_type": "code",
      "source": [
        "import torch\n",
        "import torch.nn as nn\n",
        "import torch.nn.functional as F"
      ],
      "metadata": {
        "id": "oYqYXgcPPkGm"
      },
      "execution_count": null,
      "outputs": []
    },
    {
      "cell_type": "code",
      "source": [
        "X_train=df.drop('Transported',axis=1).values\n",
        "y_train=df['Transported'].values"
      ],
      "metadata": {
        "id": "7KJaOOR0P4mD"
      },
      "execution_count": null,
      "outputs": []
    },
    {
      "cell_type": "code",
      "source": [
        "X_train=X_train*1"
      ],
      "metadata": {
        "id": "tQG0kGl-TNPn"
      },
      "execution_count": null,
      "outputs": []
    },
    {
      "cell_type": "code",
      "source": [
        "X_train"
      ],
      "metadata": {
        "id": "eDOZ0ULyTNlv"
      },
      "execution_count": null,
      "outputs": []
    },
    {
      "cell_type": "code",
      "source": [
        "y_train=y_train*1"
      ],
      "metadata": {
        "id": "rJK-6BiAQPLC"
      },
      "execution_count": null,
      "outputs": []
    },
    {
      "cell_type": "code",
      "source": [
        "X_train = X_train.astype(int)\n",
        "\n",
        "# Convert y_train to int\n",
        "y_train = y_train.astype(int)\n"
      ],
      "metadata": {
        "id": "mpPz98DuTvZN"
      },
      "execution_count": null,
      "outputs": []
    },
    {
      "cell_type": "code",
      "source": [
        "X_train"
      ],
      "metadata": {
        "id": "I4Wk4eDDTvdo"
      },
      "execution_count": null,
      "outputs": []
    },
    {
      "cell_type": "code",
      "source": [
        "y_train"
      ],
      "metadata": {
        "id": "taUfPq8_TvgZ"
      },
      "execution_count": null,
      "outputs": []
    },
    {
      "cell_type": "code",
      "source": [
        "test_d=test_d*1"
      ],
      "metadata": {
        "id": "DeYqdKbvUF2B"
      },
      "execution_count": null,
      "outputs": []
    },
    {
      "cell_type": "code",
      "source": [
        "test_d=test_d.astype(int)"
      ],
      "metadata": {
        "id": "ZzQDS_AIUJNe"
      },
      "execution_count": null,
      "outputs": []
    },
    {
      "cell_type": "code",
      "source": [],
      "metadata": {
        "id": "GQ1oCm1PTvk-"
      },
      "execution_count": null,
      "outputs": []
    },
    {
      "cell_type": "code",
      "source": [
        "X_train=torch.FloatTensor(X_train)\n",
        "y_train=torch.FloatTensor(y_train)"
      ],
      "metadata": {
        "id": "oTnWcmTVQBer"
      },
      "execution_count": null,
      "outputs": []
    },
    {
      "cell_type": "code",
      "source": [
        "X_test=torch.LongTensor(test_d.values)"
      ],
      "metadata": {
        "id": "pKFEbEanQKU6"
      },
      "execution_count": null,
      "outputs": []
    },
    {
      "cell_type": "code",
      "source": [
        "X_test=X_test.float()"
      ],
      "metadata": {
        "id": "FjkINOAjaV01"
      },
      "execution_count": null,
      "outputs": []
    },
    {
      "cell_type": "code",
      "source": [
        "X_test.shape"
      ],
      "metadata": {
        "id": "EGeC4O_QeP9i"
      },
      "execution_count": null,
      "outputs": []
    },
    {
      "cell_type": "code",
      "source": [
        "df.shape"
      ],
      "metadata": {
        "id": "d0MEpL2-UAsT"
      },
      "execution_count": null,
      "outputs": []
    },
    {
      "cell_type": "code",
      "source": [
        "class ANN_Model(nn.Module):\n",
        "    def __init__(self,input_features=11,hidden1=20,hidden2=20,out_features=2):\n",
        "        super().__init__()\n",
        "        self.f_connected1=nn.Linear(input_features,hidden1)\n",
        "        self.f_connected2=nn.Linear(hidden1,hidden2)\n",
        "        self.out=nn.Linear(hidden2,out_features)\n",
        "    def forward(self,x):\n",
        "        x=F.relu(self.f_connected1(x))\n",
        "        x=F.relu(self.f_connected2(x))\n",
        "        x = torch.sigmoid(self.out(x))\n",
        "        return x"
      ],
      "metadata": {
        "id": "Zsixlz40UX2J"
      },
      "execution_count": null,
      "outputs": []
    },
    {
      "cell_type": "code",
      "source": [
        "torch.manual_seed(20)\n",
        "model=ANN_Model()"
      ],
      "metadata": {
        "id": "LJ0CHoAWWjLp"
      },
      "execution_count": null,
      "outputs": []
    },
    {
      "cell_type": "code",
      "source": [
        "model.parameters"
      ],
      "metadata": {
        "id": "2X9-emBaWqFQ"
      },
      "execution_count": null,
      "outputs": []
    },
    {
      "cell_type": "code",
      "source": [
        "loss_function=nn.CrossEntropyLoss()\n",
        "optimizer=torch.optim.Adam(model.parameters(),lr=0.01)"
      ],
      "metadata": {
        "id": "t5UBJGqpWxHW"
      },
      "execution_count": null,
      "outputs": []
    },
    {
      "cell_type": "code",
      "source": [],
      "metadata": {
        "id": "w-bP0Yp5b9RH"
      },
      "execution_count": null,
      "outputs": []
    },
    {
      "cell_type": "code",
      "source": [],
      "metadata": {
        "id": "boqR_-mhb9nK"
      },
      "execution_count": null,
      "outputs": []
    },
    {
      "cell_type": "code",
      "source": [
        "epochs=1000\n",
        "final_losses=[]\n",
        "for i in range(epochs):\n",
        "    i=i+1\n",
        "    y_pred=model.forward(X_train)\n",
        "    loss=loss_function(y_pred,y_train.long()) # Cast y_train to Long\n",
        "    final_losses.append(loss)\n",
        "    if i%10==1:\n",
        "        print(\"Epoch number: {} and the loss : {}\".format(i,loss.item()))\n",
        "    optimizer.zero_grad()\n",
        "    loss.backward()\n",
        "    optimizer.step()"
      ],
      "metadata": {
        "id": "FjdGWeEeZF8f"
      },
      "execution_count": null,
      "outputs": []
    },
    {
      "cell_type": "code",
      "source": [
        "#### Prediction In X_test data\n",
        "predictions=[]\n",
        "with torch.no_grad():\n",
        "    for i,data in enumerate(X_test):\n",
        "        y_pred=model(data)\n",
        "        predictions.append(y_pred.argmax().item())\n",
        ""
      ],
      "metadata": {
        "id": "vXK-Zz_QcBL0"
      },
      "execution_count": null,
      "outputs": []
    },
    {
      "cell_type": "code",
      "source": [
        "final=pd.DataFrame(predictions)"
      ],
      "metadata": {
        "id": "91XNriGlcK76"
      },
      "execution_count": null,
      "outputs": []
    },
    {
      "cell_type": "code",
      "source": [
        "final.shape"
      ],
      "metadata": {
        "id": "5HbKjzxPc5aD"
      },
      "execution_count": null,
      "outputs": []
    },
    {
      "cell_type": "code",
      "source": [
        "new=pd.read_csv('test.csv')"
      ],
      "metadata": {
        "id": "vWtdmUtXc9Pd"
      },
      "execution_count": null,
      "outputs": []
    },
    {
      "cell_type": "code",
      "source": [
        "sub=new[['PassengerId']]"
      ],
      "metadata": {
        "id": "9-IosuTDg0Da"
      },
      "execution_count": null,
      "outputs": []
    },
    {
      "cell_type": "code",
      "source": [
        "sub['Transported']=final\n"
      ],
      "metadata": {
        "id": "GNmQp7Kvg4Mb"
      },
      "execution_count": null,
      "outputs": []
    },
    {
      "cell_type": "code",
      "source": [
        "submission=sub"
      ],
      "metadata": {
        "id": "NkP569ZKj7oC"
      },
      "execution_count": null,
      "outputs": []
    },
    {
      "cell_type": "code",
      "source": [
        "submission['Transported'] = submission['Transported'].replace({0: False, 1: True})"
      ],
      "metadata": {
        "id": "h10Z_u4MjJ35"
      },
      "execution_count": null,
      "outputs": []
    },
    {
      "cell_type": "code",
      "source": [
        "sub.to_csv('space.csv',index=False)"
      ],
      "metadata": {
        "id": "BwRR2unlg5hg"
      },
      "execution_count": null,
      "outputs": []
    },
    {
      "cell_type": "code",
      "source": [],
      "metadata": {
        "id": "ev7OS2Vsh9ea"
      },
      "execution_count": null,
      "outputs": []
    }
  ]
}